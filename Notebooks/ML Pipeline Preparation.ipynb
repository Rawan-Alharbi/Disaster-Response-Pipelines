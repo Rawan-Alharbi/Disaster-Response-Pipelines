{
 "cells": [
  {
   "cell_type": "markdown",
   "metadata": {},
   "source": [
    "# ML Pipeline Preparation\n",
    "Follow the instructions below to help you create your ML pipeline.\n",
    "### 1. Import libraries and load data from database.\n",
    "- Import Python libraries\n",
    "- Load dataset from database with [`read_sql_table`](https://pandas.pydata.org/pandas-docs/stable/generated/pandas.read_sql_table.html)\n",
    "- Define feature and target variables X and Y"
   ]
  },
  {
   "cell_type": "code",
   "execution_count": 1,
   "metadata": {},
   "outputs": [
    {
     "name": "stdout",
     "output_type": "stream",
     "text": [
      "[nltk_data] Downloading package punkt to /root/nltk_data...\n",
      "[nltk_data]   Unzipping tokenizers/punkt.zip.\n",
      "[nltk_data] Downloading package wordnet to /root/nltk_data...\n",
      "[nltk_data]   Unzipping corpora/wordnet.zip.\n"
     ]
    }
   ],
   "source": [
    "import nltk\n",
    "nltk.download(['punkt', 'wordnet'])\n",
    "from nltk.tokenize import word_tokenize\n",
    "from nltk.stem import WordNetLemmatizer"
   ]
  },
  {
   "cell_type": "code",
   "execution_count": 20,
   "metadata": {},
   "outputs": [],
   "source": [
    "# import libraries\n",
    "import pandas as pd\n",
    "import numpy as np\n",
    "\n",
    "from sqlalchemy import create_engine\n",
    "\n",
    "\n",
    "from sklearn.multioutput import MultiOutputClassifier\n",
    "from sklearn.pipeline import Pipeline\n",
    "from sklearn.ensemble import RandomForestClassifier\n",
    "from sklearn.feature_extraction.text import CountVectorizer, TfidfTransformer\n",
    "from sklearn.model_selection import train_test_split\n",
    "from sklearn.metrics import classification_report\n",
    "from sklearn.model_selection import GridSearchCV\n",
    "\n",
    "import pickle"
   ]
  },
  {
   "cell_type": "code",
   "execution_count": 3,
   "metadata": {},
   "outputs": [],
   "source": [
    "# load data from database\n",
    "engine = create_engine('sqlite:///DisasterResponse.db')\n",
    "df = pd.read_sql_table('messages', engine)\n",
    "X = df['message']\n",
    "y = df.drop(['id','message', 'original', 'genre'], axis=1)"
   ]
  },
  {
   "cell_type": "markdown",
   "metadata": {},
   "source": [
    "### 2. Write a tokenization function to process your text data"
   ]
  },
  {
   "cell_type": "code",
   "execution_count": 4,
   "metadata": {},
   "outputs": [],
   "source": [
    "def tokenize(text):\n",
    "    \n",
    "    tokens = word_tokenize(text)\n",
    "    lemmatizer = WordNetLemmatizer()\n",
    "    \n",
    "    clean_tokens = []\n",
    "    for tok in tokens:\n",
    "        clean_tok = lemmatizer.lemmatize(tok).lower().strip()\n",
    "        clean_tokens.append(clean_tok)\n",
    "\n",
    "    return clean_tokens"
   ]
  },
  {
   "cell_type": "markdown",
   "metadata": {},
   "source": [
    "### 3. Build a machine learning pipeline\n",
    "This machine pipeline should take in the `message` column as input and output classification results on the other 36 categories in the dataset. You may find the [MultiOutputClassifier](http://scikit-learn.org/stable/modules/generated/sklearn.multioutput.MultiOutputClassifier.html) helpful for predicting multiple target variables."
   ]
  },
  {
   "cell_type": "code",
   "execution_count": 5,
   "metadata": {},
   "outputs": [],
   "source": [
    "pipeline = Pipeline([\n",
    "    ('vect', CountVectorizer(tokenizer=tokenize)),\n",
    "    ('tfidf', TfidfTransformer()),\n",
    "    ('clf', MultiOutputClassifier(RandomForestClassifier()))\n",
    "])"
   ]
  },
  {
   "cell_type": "markdown",
   "metadata": {},
   "source": [
    "### 4. Train pipeline\n",
    "- Split data into train and test sets\n",
    "- Train pipeline"
   ]
  },
  {
   "cell_type": "code",
   "execution_count": 6,
   "metadata": {},
   "outputs": [
    {
     "data": {
      "text/plain": [
       "Pipeline(memory=None,\n",
       "     steps=[('vect', CountVectorizer(analyzer='word', binary=False, decode_error='strict',\n",
       "        dtype=<class 'numpy.int64'>, encoding='utf-8', input='content',\n",
       "        lowercase=True, max_df=1.0, max_features=None, min_df=1,\n",
       "        ngram_range=(1, 1), preprocessor=None, stop_words=None,\n",
       "        strip...oob_score=False, random_state=None, verbose=0,\n",
       "            warm_start=False),\n",
       "           n_jobs=1))])"
      ]
     },
     "execution_count": 6,
     "metadata": {},
     "output_type": "execute_result"
    }
   ],
   "source": [
    "X_train, X_test, y_train, y_test = train_test_split(X, y, test_size=0.33, random_state=42)\n",
    "\n",
    "pipeline.fit(X_train, y_train)"
   ]
  },
  {
   "cell_type": "markdown",
   "metadata": {},
   "source": [
    "### 5. Test your model\n",
    "Report the f1 score, precision and recall for each output category of the dataset. You can do this by iterating through the columns and calling sklearn's `classification_report` on each."
   ]
  },
  {
   "cell_type": "code",
   "execution_count": 7,
   "metadata": {},
   "outputs": [],
   "source": [
    "y_pred = pipeline.predict(X_test)"
   ]
  },
  {
   "cell_type": "code",
   "execution_count": 8,
   "metadata": {},
   "outputs": [
    {
     "name": "stdout",
     "output_type": "stream",
     "text": [
      "                        precision    recall  f1-score   support\n",
      "\n",
      "               related       0.83      0.39      0.53      1472\n",
      "               request       0.00      0.00      0.00        38\n",
      "                 offer       0.74      0.49      0.59      3545\n",
      "           aid_related       0.61      0.10      0.17       701\n",
      "          medical_help       0.67      0.08      0.15       446\n",
      "      medical_products       0.30      0.01      0.03       226\n",
      "     search_and_rescue       0.00      0.00      0.00       160\n",
      "              security       0.54      0.07      0.13       267\n",
      "              military       0.00      0.00      0.00         0\n",
      "           child_alone       0.82      0.44      0.58       543\n",
      "                 water       0.85      0.29      0.43       965\n",
      "                  food       0.79      0.19      0.30       775\n",
      "               shelter       0.57      0.03      0.06       127\n",
      "              clothing       0.77      0.05      0.10       191\n",
      "                 money       1.00      0.01      0.02       104\n",
      "        missing_people       0.61      0.04      0.07       293\n",
      "              refugees       0.86      0.14      0.24       406\n",
      "                 death       0.51      0.03      0.06      1139\n",
      "             other_aid       0.40      0.00      0.01       568\n",
      "infrastructure_related       0.70      0.05      0.10       407\n",
      "             transport       0.67      0.06      0.12       441\n",
      "             buildings       1.00      0.03      0.05       185\n",
      "           electricity       0.00      0.00      0.00        53\n",
      "                 tools       0.00      0.00      0.00        85\n",
      "             hospitals       0.00      0.00      0.00        34\n",
      "                 shops       0.00      0.00      0.00       115\n",
      "           aid_centers       0.00      0.00      0.00       383\n",
      "  other_infrastructure       0.83      0.50      0.62      2390\n",
      "       weather_related       0.89      0.27      0.41       693\n",
      "                floods       0.73      0.29      0.41       812\n",
      "                 storm       0.67      0.02      0.04        90\n",
      "                  fire       0.88      0.61      0.72       787\n",
      "            earthquake       0.75      0.08      0.14       187\n",
      "                  cold       0.80      0.03      0.05       452\n",
      "         other_weather       0.78      0.31      0.45      1694\n",
      "\n",
      "           avg / total       0.72      0.29      0.38     20774\n",
      "\n"
     ]
    },
    {
     "name": "stderr",
     "output_type": "stream",
     "text": [
      "/opt/conda/lib/python3.6/site-packages/sklearn/metrics/classification.py:1428: UserWarning: labels size, 35, does not match size of target_names, 36\n",
      "  .format(len(labels), len(target_names))\n",
      "/opt/conda/lib/python3.6/site-packages/sklearn/metrics/classification.py:1135: UndefinedMetricWarning: Precision and F-score are ill-defined and being set to 0.0 in labels with no predicted samples.\n",
      "  'precision', 'predicted', average, warn_for)\n",
      "/opt/conda/lib/python3.6/site-packages/sklearn/metrics/classification.py:1137: UndefinedMetricWarning: Recall and F-score are ill-defined and being set to 0.0 in labels with no true samples.\n",
      "  'recall', 'true', average, warn_for)\n"
     ]
    }
   ],
   "source": [
    "print(classification_report(y_test.iloc[:,1:].values, np.array([x[1:] for x in y_pred]), target_names=y_test.columns))"
   ]
  },
  {
   "cell_type": "markdown",
   "metadata": {},
   "source": [
    "### 6. Improve your model\n",
    "Use grid search to find better parameters. "
   ]
  },
  {
   "cell_type": "code",
   "execution_count": 16,
   "metadata": {},
   "outputs": [],
   "source": [
    "parameters = {\n",
    "        'vect__ngram_range': ((1, 1), (1, 2)),\n",
    "        'tfidf__use_idf': (True, False),\n",
    "        'clf__estimator__n_estimators': [100, 200],\n",
    "    }\n",
    "\n",
    "\n",
    "cv = GridSearchCV(pipeline, param_grid=parameters, n_jobs=-1, verbose=2)"
   ]
  },
  {
   "cell_type": "code",
   "execution_count": 17,
   "metadata": {
    "scrolled": true
   },
   "outputs": [
    {
     "name": "stdout",
     "output_type": "stream",
     "text": [
      "Fitting 3 folds for each of 8 candidates, totalling 24 fits\n",
      "[CV] clf__estimator__n_estimators=100, tfidf__use_idf=True, vect__ngram_range=(1, 1) \n",
      "[CV]  clf__estimator__n_estimators=100, tfidf__use_idf=True, vect__ngram_range=(1, 1), total= 5.1min\n",
      "[CV] clf__estimator__n_estimators=100, tfidf__use_idf=True, vect__ngram_range=(1, 1) \n"
     ]
    },
    {
     "name": "stderr",
     "output_type": "stream",
     "text": [
      "[Parallel(n_jobs=-1)]: Done   1 out of   1 | elapsed:  5.6min remaining:    0.0s\n"
     ]
    },
    {
     "name": "stdout",
     "output_type": "stream",
     "text": [
      "[CV]  clf__estimator__n_estimators=100, tfidf__use_idf=True, vect__ngram_range=(1, 1), total= 5.1min\n",
      "[CV] clf__estimator__n_estimators=100, tfidf__use_idf=True, vect__ngram_range=(1, 1) \n",
      "[CV]  clf__estimator__n_estimators=100, tfidf__use_idf=True, vect__ngram_range=(1, 1), total= 5.2min\n",
      "[CV] clf__estimator__n_estimators=100, tfidf__use_idf=True, vect__ngram_range=(1, 2) \n",
      "[CV]  clf__estimator__n_estimators=100, tfidf__use_idf=True, vect__ngram_range=(1, 2), total=11.3min\n",
      "[CV] clf__estimator__n_estimators=100, tfidf__use_idf=True, vect__ngram_range=(1, 2) \n",
      "[CV]  clf__estimator__n_estimators=100, tfidf__use_idf=True, vect__ngram_range=(1, 2), total=11.5min\n",
      "[CV] clf__estimator__n_estimators=100, tfidf__use_idf=True, vect__ngram_range=(1, 2) \n",
      "[CV]  clf__estimator__n_estimators=100, tfidf__use_idf=True, vect__ngram_range=(1, 2), total=12.7min\n",
      "[CV] clf__estimator__n_estimators=100, tfidf__use_idf=False, vect__ngram_range=(1, 1) \n",
      "[CV]  clf__estimator__n_estimators=100, tfidf__use_idf=False, vect__ngram_range=(1, 1), total= 5.1min\n",
      "[CV] clf__estimator__n_estimators=100, tfidf__use_idf=False, vect__ngram_range=(1, 1) \n",
      "[CV]  clf__estimator__n_estimators=100, tfidf__use_idf=False, vect__ngram_range=(1, 1), total= 5.1min\n",
      "[CV] clf__estimator__n_estimators=100, tfidf__use_idf=False, vect__ngram_range=(1, 1) \n",
      "[CV]  clf__estimator__n_estimators=100, tfidf__use_idf=False, vect__ngram_range=(1, 1), total= 5.2min\n",
      "[CV] clf__estimator__n_estimators=100, tfidf__use_idf=False, vect__ngram_range=(1, 2) \n",
      "[CV]  clf__estimator__n_estimators=100, tfidf__use_idf=False, vect__ngram_range=(1, 2), total=11.7min\n",
      "[CV] clf__estimator__n_estimators=100, tfidf__use_idf=False, vect__ngram_range=(1, 2) \n",
      "[CV]  clf__estimator__n_estimators=100, tfidf__use_idf=False, vect__ngram_range=(1, 2), total=11.4min\n",
      "[CV] clf__estimator__n_estimators=100, tfidf__use_idf=False, vect__ngram_range=(1, 2) \n",
      "[CV]  clf__estimator__n_estimators=100, tfidf__use_idf=False, vect__ngram_range=(1, 2), total=12.4min\n",
      "[CV] clf__estimator__n_estimators=200, tfidf__use_idf=True, vect__ngram_range=(1, 1) \n",
      "[CV]  clf__estimator__n_estimators=200, tfidf__use_idf=True, vect__ngram_range=(1, 1), total=10.2min\n",
      "[CV] clf__estimator__n_estimators=200, tfidf__use_idf=True, vect__ngram_range=(1, 1) \n",
      "[CV]  clf__estimator__n_estimators=200, tfidf__use_idf=True, vect__ngram_range=(1, 1), total=10.1min\n",
      "[CV] clf__estimator__n_estimators=200, tfidf__use_idf=True, vect__ngram_range=(1, 1) \n",
      "[CV]  clf__estimator__n_estimators=200, tfidf__use_idf=True, vect__ngram_range=(1, 1), total=10.2min\n",
      "[CV] clf__estimator__n_estimators=200, tfidf__use_idf=True, vect__ngram_range=(1, 2) \n",
      "[CV]  clf__estimator__n_estimators=200, tfidf__use_idf=True, vect__ngram_range=(1, 2), total=22.0min\n",
      "[CV] clf__estimator__n_estimators=200, tfidf__use_idf=True, vect__ngram_range=(1, 2) \n",
      "[CV]  clf__estimator__n_estimators=200, tfidf__use_idf=True, vect__ngram_range=(1, 2), total=23.5min\n",
      "[CV] clf__estimator__n_estimators=200, tfidf__use_idf=True, vect__ngram_range=(1, 2) \n",
      "[CV]  clf__estimator__n_estimators=200, tfidf__use_idf=True, vect__ngram_range=(1, 2), total=24.7min\n",
      "[CV] clf__estimator__n_estimators=200, tfidf__use_idf=False, vect__ngram_range=(1, 1) \n",
      "[CV]  clf__estimator__n_estimators=200, tfidf__use_idf=False, vect__ngram_range=(1, 1), total=10.1min\n",
      "[CV] clf__estimator__n_estimators=200, tfidf__use_idf=False, vect__ngram_range=(1, 1) \n",
      "[CV]  clf__estimator__n_estimators=200, tfidf__use_idf=False, vect__ngram_range=(1, 1), total=10.1min\n",
      "[CV] clf__estimator__n_estimators=200, tfidf__use_idf=False, vect__ngram_range=(1, 1) \n",
      "[CV]  clf__estimator__n_estimators=200, tfidf__use_idf=False, vect__ngram_range=(1, 1), total=10.1min\n",
      "[CV] clf__estimator__n_estimators=200, tfidf__use_idf=False, vect__ngram_range=(1, 2) \n",
      "[CV]  clf__estimator__n_estimators=200, tfidf__use_idf=False, vect__ngram_range=(1, 2), total=23.1min\n",
      "[CV] clf__estimator__n_estimators=200, tfidf__use_idf=False, vect__ngram_range=(1, 2) \n",
      "[CV]  clf__estimator__n_estimators=200, tfidf__use_idf=False, vect__ngram_range=(1, 2), total=23.5min\n",
      "[CV] clf__estimator__n_estimators=200, tfidf__use_idf=False, vect__ngram_range=(1, 2) \n",
      "[CV]  clf__estimator__n_estimators=200, tfidf__use_idf=False, vect__ngram_range=(1, 2), total=23.2min\n"
     ]
    },
    {
     "name": "stderr",
     "output_type": "stream",
     "text": [
      "[Parallel(n_jobs=-1)]: Done  24 out of  24 | elapsed: 326.3min finished\n"
     ]
    },
    {
     "data": {
      "text/plain": [
       "GridSearchCV(cv=None, error_score='raise',\n",
       "       estimator=Pipeline(memory=None,\n",
       "     steps=[('vect', CountVectorizer(analyzer='word', binary=False, decode_error='strict',\n",
       "        dtype=<class 'numpy.int64'>, encoding='utf-8', input='content',\n",
       "        lowercase=True, max_df=1.0, max_features=None, min_df=1,\n",
       "        ngram_range=(1, 1), preprocessor=None, stop_words=None,\n",
       "        strip...oob_score=False, random_state=None, verbose=0,\n",
       "            warm_start=False),\n",
       "           n_jobs=1))]),\n",
       "       fit_params=None, iid=True, n_jobs=-1,\n",
       "       param_grid={'vect__ngram_range': ((1, 1), (1, 2)), 'tfidf__use_idf': (True, False), 'clf__estimator__n_estimators': [100, 200]},\n",
       "       pre_dispatch='2*n_jobs', refit=True, return_train_score='warn',\n",
       "       scoring=None, verbose=2)"
      ]
     },
     "execution_count": 17,
     "metadata": {},
     "output_type": "execute_result"
    }
   ],
   "source": [
    "cv.fit(X_train, y_train)"
   ]
  },
  {
   "cell_type": "code",
   "execution_count": 18,
   "metadata": {},
   "outputs": [],
   "source": [
    "cv_y_pred = cv.predict(X_test)"
   ]
  },
  {
   "cell_type": "markdown",
   "metadata": {},
   "source": [
    "### 7. Test your model\n",
    "Show the accuracy, precision, and recall of the tuned model.  \n"
   ]
  },
  {
   "cell_type": "code",
   "execution_count": 19,
   "metadata": {},
   "outputs": [
    {
     "name": "stdout",
     "output_type": "stream",
     "text": [
      "                        precision    recall  f1-score   support\n",
      "\n",
      "               related       0.89      0.45      0.60      1472\n",
      "               request       0.00      0.00      0.00        38\n",
      "                 offer       0.79      0.58      0.67      3545\n",
      "           aid_related       0.69      0.04      0.08       701\n",
      "          medical_help       0.81      0.10      0.17       446\n",
      "      medical_products       0.94      0.07      0.13       226\n",
      "     search_and_rescue       0.00      0.00      0.00       160\n",
      "              security       0.67      0.01      0.03       267\n",
      "              military       0.00      0.00      0.00         0\n",
      "           child_alone       0.89      0.30      0.45       543\n",
      "                 water       0.86      0.53      0.66       965\n",
      "                  food       0.85      0.30      0.45       775\n",
      "               shelter       0.80      0.06      0.12       127\n",
      "              clothing       0.89      0.04      0.08       191\n",
      "                 money       1.00      0.01      0.02       104\n",
      "        missing_people       0.17      0.00      0.01       293\n",
      "              refugees       0.90      0.14      0.24       406\n",
      "                 death       0.58      0.02      0.03      1139\n",
      "             other_aid       0.00      0.00      0.00       568\n",
      "infrastructure_related       0.76      0.05      0.10       407\n",
      "             transport       0.82      0.10      0.17       441\n",
      "             buildings       0.80      0.02      0.04       185\n",
      "           electricity       1.00      0.02      0.04        53\n",
      "                 tools       0.00      0.00      0.00        85\n",
      "             hospitals       0.00      0.00      0.00        34\n",
      "                 shops       0.00      0.00      0.00       115\n",
      "           aid_centers       0.00      0.00      0.00       383\n",
      "  other_infrastructure       0.87      0.56      0.68      2390\n",
      "       weather_related       0.91      0.34      0.50       693\n",
      "                floods       0.77      0.41      0.54       812\n",
      "                 storm       0.50      0.01      0.02        90\n",
      "                  fire       0.89      0.72      0.79       787\n",
      "            earthquake       0.60      0.03      0.06       187\n",
      "                  cold       0.71      0.03      0.05       452\n",
      "         other_weather       0.86      0.35      0.50      1694\n",
      "\n",
      "           avg / total       0.75      0.34      0.43     20774\n",
      "\n"
     ]
    },
    {
     "name": "stderr",
     "output_type": "stream",
     "text": [
      "/opt/conda/lib/python3.6/site-packages/sklearn/metrics/classification.py:1428: UserWarning: labels size, 35, does not match size of target_names, 36\n",
      "  .format(len(labels), len(target_names))\n",
      "/opt/conda/lib/python3.6/site-packages/sklearn/metrics/classification.py:1135: UndefinedMetricWarning: Precision and F-score are ill-defined and being set to 0.0 in labels with no predicted samples.\n",
      "  'precision', 'predicted', average, warn_for)\n",
      "/opt/conda/lib/python3.6/site-packages/sklearn/metrics/classification.py:1137: UndefinedMetricWarning: Recall and F-score are ill-defined and being set to 0.0 in labels with no true samples.\n",
      "  'recall', 'true', average, warn_for)\n"
     ]
    }
   ],
   "source": [
    "print(classification_report(y_test.iloc[:,1:].values, np.array([x[1:] for x in cv_y_pred]), target_names=y_test.columns))"
   ]
  },
  {
   "cell_type": "markdown",
   "metadata": {},
   "source": [
    "### 9. Export your model as a pickle file"
   ]
  },
  {
   "cell_type": "code",
   "execution_count": 21,
   "metadata": {},
   "outputs": [],
   "source": [
    "pickle.dump(cv, open('model.pkl', 'wb'))"
   ]
  },
  {
   "cell_type": "markdown",
   "metadata": {},
   "source": [
    "### 10. Use this notebook to complete `train.py`\n",
    "Use the template file attached in the Resources folder to write a script that runs the steps above to create a database and export a model based on a new dataset specified by the user."
   ]
  },
  {
   "cell_type": "code",
   "execution_count": null,
   "metadata": {},
   "outputs": [],
   "source": []
  }
 ],
 "metadata": {
  "kernelspec": {
   "display_name": "Python 3",
   "language": "python",
   "name": "python3"
  },
  "language_info": {
   "codemirror_mode": {
    "name": "ipython",
    "version": 3
   },
   "file_extension": ".py",
   "mimetype": "text/x-python",
   "name": "python",
   "nbconvert_exporter": "python",
   "pygments_lexer": "ipython3",
   "version": "3.6.3"
  }
 },
 "nbformat": 4,
 "nbformat_minor": 2
}
